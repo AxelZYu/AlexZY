{
 "cells": [
  {
   "cell_type": "code",
   "execution_count": null,
   "id": "c836c8fe",
   "metadata": {},
   "outputs": [],
   "source": [
    "import requests\n",
    "import json\n",
    "\n",
    "request=requests.get(\"https://geocode-maps.yandex.ru/1.x?geocode=Самара&apikey=3f355b88-81e9-4bbf-a0a4-eb687fdea256&format=json\")\n",
    "data_samara=json.loads(request.content)\n",
    "geo_samara=data_samara['response']['GeoObjectCollection']['featureMember'][0]['GeoObject']['Point']['pos'].split(\" \")[0]\n",
    "print (\"Точка г. Самара: \", geo_samara)"
   ]
  }
 ],
 "metadata": {
  "kernelspec": {
   "display_name": "Python 3 (ipykernel)",
   "language": "python",
   "name": "python3"
  },
  "language_info": {
   "codemirror_mode": {
    "name": "ipython",
    "version": 3
   },
   "file_extension": ".py",
   "mimetype": "text/x-python",
   "name": "python",
   "nbconvert_exporter": "python",
   "pygments_lexer": "ipython3",
   "version": "3.9.6"
  }
 },
 "nbformat": 4,
 "nbformat_minor": 5
}
