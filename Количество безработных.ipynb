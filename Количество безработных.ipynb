{
 "cells": [
  {
   "cell_type": "code",
   "execution_count": null,
   "id": "63be6481",
   "metadata": {},
   "outputs": [],
   "source": [
    "Необходимо из двух наборов данных (Безработица в Москве и вызова пожарных) объеденив их определить, чему соответствует \n",
    "значение безработных (UnemployedMen), при наименьшем вызове пожарных в Центральном административном округе"
   ]
  },
  {
   "cell_type": "code",
   "execution_count": 49,
   "id": "b5465429",
   "metadata": {},
   "outputs": [
    {
     "name": "stdout",
     "output_type": "stream",
     "text": [
      "Calls\n",
      "220    13465\n",
      "Name: UnemployedMen, dtype: int64\n"
     ]
    }
   ],
   "source": [
    "import pandas as pd\n",
    "nwork=pd.read_csv(\"https://video.ittensive.com/python-advanced/data-9753-2019-07-25.utf.csv\", delimiter=';')\n",
    "nwork=nwork.set_index([\"Period\", \"Year\"])\n",
    "nwork.index.names=(\"Month\", \"Year\") \n",
    "mchs=pd.read_csv(\"https://video.ittensive.com/python-advanced/data-5283-2019-10-04.utf.csv\", delimiter=\";\")\n",
    "mchs=mchs.set_index([\"AdmArea\", \"Month\", \"Year\"])\n",
    "mchs=mchs.loc[\"Центральный административный округ\"]\n",
    "nwork_mchs=pd.merge(nwork, mchs, left_index=True, right_index=True)\n",
    "nwork_mchs=nwork_mchs.reset_index()\n",
    "nwork_mchs=nwork_mchs.set_index(\"Calls\")\n",
    "nwork_mchs=nwork_mchs.sort_index()\n",
    "print(nwork_mchs[\"UnemployedMen\"][0:1])\n",
    "\n",
    "\n"
   ]
  }
 ],
 "metadata": {
  "kernelspec": {
   "display_name": "Python 3 (ipykernel)",
   "language": "python",
   "name": "python3"
  },
  "language_info": {
   "codemirror_mode": {
    "name": "ipython",
    "version": 3
   },
   "file_extension": ".py",
   "mimetype": "text/x-python",
   "name": "python",
   "nbconvert_exporter": "python",
   "pygments_lexer": "ipython3",
   "version": "3.9.6"
  }
 },
 "nbformat": 4,
 "nbformat_minor": 5
}
