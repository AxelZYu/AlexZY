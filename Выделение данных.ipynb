{
 "cells": [
  {
   "cell_type": "markdown",
   "id": "e6af4448",
   "metadata": {},
   "source": [
    "Необходимо из полученных данных, данные по безработице в Москва, выяснить, с какого года процент людей с ограниченными возможностями стал менеее 2 %"
   ]
  },
  {
   "cell_type": "code",
   "execution_count": 12,
   "id": "5c6f94ed",
   "metadata": {},
   "outputs": [
    {
     "name": "stdout",
     "output_type": "stream",
     "text": [
      "Year\n",
      "2018    1.890380\n",
      "2018    1.817828\n",
      "2018    1.897526\n",
      "2018    1.911395\n",
      "2019    1.986983\n",
      "2019    1.883193\n",
      "2019    1.914943\n",
      "2019    1.938099\n",
      "2019    1.905405\n",
      "Name: Доля, dtype: float64\n"
     ]
    }
   ],
   "source": [
    "import pandas as pd\n",
    "bezrab=pd.read_csv(\"https://video.ittensive.com/python-advanced/data-9753-2019-07-25.utf.csv\", delimiter=\";\")\n",
    "bezrab['Доля']=(bezrab[\"UnemployedDisabled\"]/bezrab[\"UnemployedTotal\"])*100\n",
    "bezrab=bezrab.set_index([\"Year\"])\n",
    "bezrab=bezrab.sort_index()\n",
    "bezrab_2=bezrab[bezrab[\"Доля\"]<2]\n",
    "print (bezrab_2[\"Доля\"])"
   ]
  },
  {
   "cell_type": "code",
   "execution_count": 32,
   "id": "94d56378",
   "metadata": {},
   "outputs": [
    {
     "name": "stdout",
     "output_type": "stream",
     "text": [
      "Year\n",
      "2018    1.89\n",
      "Name: Доля, dtype: float64\n"
     ]
    }
   ],
   "source": [
    "import pandas as pd\n",
    "bezrab=pd.read_csv(\"https://video.ittensive.com/python-advanced/data-9753-2019-07-25.utf.csv\", delimiter=\";\")\n",
    "bezrab['Доля']=bezrab.apply(lambda n: (n[6]/n[7])*100, axis=1)\n",
    "bezrab=bezrab.set_index([\"Year\"])\n",
    "bezrab=bezrab.sort_index()\n",
    "bezrab_2=bezrab[bezrab[\"Доля\"]<2]\n",
    "print (bezrab_2[\"Доля\"][:1].round(2))"
   ]
  }
 ],
 "metadata": {
  "kernelspec": {
   "display_name": "Python 3 (ipykernel)",
   "language": "python",
   "name": "python3"
  },
  "language_info": {
   "codemirror_mode": {
    "name": "ipython",
    "version": 3
   },
   "file_extension": ".py",
   "mimetype": "text/x-python",
   "name": "python",
   "nbconvert_exporter": "python",
   "pygments_lexer": "ipython3",
   "version": "3.9.6"
  }
 },
 "nbformat": 4,
 "nbformat_minor": 5
}
