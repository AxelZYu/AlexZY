{
 "cells": [
  {
   "cell_type": "markdown",
   "id": "17ca032c",
   "metadata": {},
   "source": [
    "Из имеющихся данных по вызову пожарных служб по г. Москва, 2014-2019 гг. Необходимо получить среднее значение вызовов без учета года"
   ]
  },
  {
   "cell_type": "code",
   "execution_count": 26,
   "id": "d230572b",
   "metadata": {},
   "outputs": [
    {
     "name": "stdout",
     "output_type": "stream",
     "text": [
      "Среднее количество вызовов пожарных служб \n",
      "по г. Москва: 493 шт!\n"
     ]
    }
   ],
   "source": [
    "import pandas as pd\n",
    "mchs=pd.read_csv(\"https://video.ittensive.com/python-advanced/data-5283-2019-10-04.utf.csv\", delimiter=\";\")\n",
    "print (\"Среднее количество вызовов пожарных служб \", end='')\n",
    "print(\"\\nпо г. Москва: \", end='')\n",
    "print(round(mchs[\"Calls\"].mean()), 'шт!')\n"
   ]
  }
 ],
 "metadata": {
  "kernelspec": {
   "display_name": "Python 3 (ipykernel)",
   "language": "python",
   "name": "python3"
  },
  "language_info": {
   "codemirror_mode": {
    "name": "ipython",
    "version": 3
   },
   "file_extension": ".py",
   "mimetype": "text/x-python",
   "name": "python",
   "nbconvert_exporter": "python",
   "pygments_lexer": "ipython3",
   "version": "3.9.6"
  }
 },
 "nbformat": 4,
 "nbformat_minor": 5
}
