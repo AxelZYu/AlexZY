{
 "cells": [
  {
   "cell_type": "code",
   "execution_count": 1,
   "id": "20a4f2b6-2fc5-4be5-aaec-60e432b24f6c",
   "metadata": {},
   "outputs": [
    {
     "name": "stdout",
     "output_type": "stream",
     "text": [
      "{'food_tableware': ['photo1.jpg', 'photo2.jpg'], 'food_drink': ['photo1.jpg', 'photo4.jpg'], 'meal_food': ['photo2.jpg', 'photo4.jpg']}\n"
     ]
    }
   ],
   "source": [
    "'''Имеется список словарей описывающий теги нескольких фотографий, необходимо отсортировать совнадения фотографий по тэгам'''\n",
    "l=[\n",
    " {\n",
    "  \"name\": \"photo1.jpg\",\n",
    "  \"tags\": {'coffee', 'breakfast', 'drink', 'table', 'tableware', 'cup', 'food'}\n",
    " },\n",
    " {\n",
    "  \"name\": \"photo2.jpg\",\n",
    "  \"tags\": {'food', 'dish', 'meat', 'meal', 'tableware', 'dinner', 'vegetable'}\n",
    " },\n",
    " {\n",
    "  \"name\": \"photo3.jpg\",\n",
    "  \"tags\": {'city', 'skyline', 'cityscape', 'skyscraper', 'architecture', 'building', 'travel'}\n",
    " },\n",
    " {\n",
    "  \"name\": \"photo4.jpg\",\n",
    "  \"tags\": {'drink', 'juice', 'glass', 'meal', 'fruit', 'food', 'grapes'}\n",
    " }\n",
    "]\n",
    "photo_groups={}\n",
    "for i in range (1, len(l)):\n",
    "       \n",
    "    for j in range (i+1, len(l)+1):\n",
    "        a=(l[i-1]['tags'])#Присвоили переменной множество фотографий по тэгу\n",
    "        b=(l[j-1]['tags'])#Присвоили переменной множество фотографий по тэгу(Следующей фотографии)\n",
    "        name_a=(l[i-1]['name'])#Присвоили переменной имя фотографии\n",
    "        name_b=(l[j-1]['name'])\n",
    "        intersecting=a.intersection(b)\n",
    "        znach=list(intersecting)\n",
    "        znach_='_'.join(znach)\n",
    "        for w in intersecting:\n",
    "            c=photo_groups.setdefault(znach_,[name_a, name_b])   \n",
    "                    \n",
    "print(photo_groups)"
   ]
  },
  {
   "cell_type": "code",
   "execution_count": null,
   "id": "8f10ddc9-292d-4448-a02e-f88c11c391de",
   "metadata": {},
   "outputs": [],
   "source": []
  }
 ],
 "metadata": {
  "kernelspec": {
   "display_name": "Python 3 (ipykernel)",
   "language": "python",
   "name": "python3"
  },
  "language_info": {
   "codemirror_mode": {
    "name": "ipython",
    "version": 3
   },
   "file_extension": ".py",
   "mimetype": "text/x-python",
   "name": "python",
   "nbconvert_exporter": "python",
   "pygments_lexer": "ipython3",
   "version": "3.9.6"
  }
 },
 "nbformat": 4,
 "nbformat_minor": 5
}
