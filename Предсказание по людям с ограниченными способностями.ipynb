{
 "cells": [
  {
   "cell_type": "markdown",
   "id": "6c8ed54d",
   "metadata": {},
   "source": [
    "Необходимо сгруппировать данные по безработице в Москве, по году, отбросить те данные где меньше 6 значений, построить модель линейной регрессии по годам процент людей с ограниченными возможностями, и спрогнозировать какой ожидается процент таких людей на 2020 г"
   ]
  },
  {
   "cell_type": "code",
   "execution_count": 82,
   "id": "ce5d5086",
   "metadata": {},
   "outputs": [
    {
     "name": "stdout",
     "output_type": "stream",
     "text": [
      "        Доля_x  Доля_y\n",
      "Year                  \n",
      "2012  4.122145      12\n",
      "2013  4.031303      12\n",
      "2014  4.025994      12\n",
      "2015  2.903958      12\n",
      "2016  2.890474      12\n",
      "2017  2.656077      12\n",
      "2018  2.059901      12\n",
      "2019  1.947273       6\n",
      "Ожидаемая доля людей с ограниченными возможностями на 2020 год в г. Москва:  1.52 %\n"
     ]
    }
   ],
   "source": [
    "import pandas as pd\n",
    "import numpy as np\n",
    "from sklearn.linear_model import LinearRegression\n",
    "data=pd.read_csv(\"http://video.ittensive.com/python-advanced/data-9753-2019-07-25.utf.csv\", delimiter=\";\")\n",
    "data['Доля']=data.apply(lambda x: (x[6]/x[7])*100, axis=1)\n",
    "data[\"Year\"]=data[\"Year\"].astype (\"category\")\n",
    "data_group=data.groupby('Year')\n",
    "data_count=data_group[\"Доля\"].count()\n",
    "data_dis=data_group[\"Доля\"].mean()\n",
    "\n",
    "data_dolya=pd.merge(data_dis, data_count, left_index=True, right_index=True)#Объеденили два созданных фрейма\n",
    "\n",
    "data_dolya=data_dolya[11:]#отфильтровали данные, оговоренные условиями\n",
    "print (data_dolya)\n",
    "x=np.array(data_dolya.index).reshape(len(data_dolya.index), 1)\n",
    "y=np.array(data_dolya[\"Доля_x\"]).reshape(len(data_dolya.index), 1)\n",
    "model=LinearRegression()\n",
    "model.fit(x, y)\n",
    "i=0\n",
    "x=2020\n",
    "y=x*model.coef_+model.intercept_\n",
    "a=y[0][0]\n",
    "print(\"Ожидаемая доля людей с ограниченными возможностями на 2020 год в г. Москва: \", round(a, 2), \"%\")"
   ]
  },
  {
   "cell_type": "code",
   "execution_count": 90,
   "id": "59559b9e",
   "metadata": {},
   "outputs": [
    {
     "name": "stdout",
     "output_type": "stream",
     "text": [
      "      Доля огр возм  Кол-во знач в период\n",
      "Year                                     \n",
      "2012       4.122145                    12\n",
      "2013       4.031303                    12\n",
      "2014       4.025994                    12\n",
      "2015       2.903958                    12\n",
      "2016       2.890474                    12\n",
      "2017       2.656077                    12\n",
      "2018       2.059901                    12\n",
      "2019       1.947273                     6\n",
      "Ожидаемая доля людей с ограниченными возможностями на 2020 год в г. Москва:  1.52 %\n"
     ]
    }
   ],
   "source": [
    "import pandas as pd\n",
    "import numpy as np\n",
    "from sklearn.linear_model import LinearRegression\n",
    "data=pd.read_csv(\"http://video.ittensive.com/python-advanced/data-9753-2019-07-25.utf.csv\", delimiter=\";\")\n",
    "data['Доля']=data.apply(lambda x: (x[6]/x[7])*100, axis=1)\n",
    "data[\"Year\"]=data[\"Year\"].astype (\"category\")\n",
    "data_group=data.groupby('Year')\n",
    "data_count=data_group[\"Доля\"].count()\n",
    "data_dis=data_group[\"Доля\"].mean()\n",
    "\n",
    "data_dolya=pd.merge(data_dis, data_count, left_index=True, right_index=True)#Объеденили два созданных фрейма\n",
    "data_dolya.columns=[\"Доля огр возм\", \"Кол-во знач в период\"]\n",
    "data_dolya=data_dolya[11:]\n",
    "print (data_dolya)\n",
    "x=np.array(data_dolya.index).reshape(len(data_dolya.index), 1)\n",
    "y=np.array(data_dolya[\"Доля огр возм\"]).reshape(len(data_dolya.index), 1)\n",
    "model=LinearRegression()\n",
    "model.fit(x, y)\n",
    "i=0\n",
    "x=2020\n",
    "y=x*model.coef_+model.intercept_\n",
    "a=y[0][0]\n",
    "print(\"Ожидаемая доля людей с ограниченными возможностями на 2020 год в г. Москва: \", round(a, 2), \"%\")"
   ]
  }
 ],
 "metadata": {
  "kernelspec": {
   "display_name": "Python 3 (ipykernel)",
   "language": "python",
   "name": "python3"
  },
  "language_info": {
   "codemirror_mode": {
    "name": "ipython",
    "version": 3
   },
   "file_extension": ".py",
   "mimetype": "text/x-python",
   "name": "python",
   "nbconvert_exporter": "python",
   "pygments_lexer": "ipython3",
   "version": "3.9.6"
  }
 },
 "nbformat": 4,
 "nbformat_minor": 5
}
